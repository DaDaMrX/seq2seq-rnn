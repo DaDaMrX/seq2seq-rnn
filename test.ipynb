{
 "cells": [
  {
   "cell_type": "code",
   "execution_count": 130,
   "metadata": {},
   "outputs": [],
   "source": [
    "import keyword\n",
    "import torch\n",
    "from torch.utils.tensorboard import SummaryWriter\n",
    "\n",
    "\n",
    "writer = SummaryWriter('exp', flush_secs=1)\n",
    "meta = []\n",
    "while len(meta)<100:\n",
    "    meta = meta+keyword.kwlist # get some strings\n",
    "meta = meta[:100]\n",
    "\n",
    "for i, v in enumerate(meta):\n",
    "    meta[i] = v+str(i)\n",
    "\n",
    "label_img = torch.rand(100, 3, 10, 32)\n",
    "for i in range(100):\n",
    "    label_img[i]*=i/100.0\n",
    "\n",
    "writer.add_embedding(torch.randn(100, 5), metadata=meta, label_img=label_img, global_step=1)\n",
    "# writer.add_embedding(torch.randn(100, 5), label_img=label_img)\n",
    "# writer.add_embedding(torch.randn(100, 5), metadata=meta)"
   ]
  },
  {
   "cell_type": "code",
   "execution_count": 5,
   "metadata": {},
   "outputs": [],
   "source": [
    "import torch"
   ]
  },
  {
   "cell_type": "code",
   "execution_count": 117,
   "metadata": {},
   "outputs": [],
   "source": [
    "encoder_hidden_size = 3\n",
    "decoder_hidden_size = 6\n",
    "\n",
    "batch_size = 4\n",
    "seq_len = 5"
   ]
  },
  {
   "cell_type": "code",
   "execution_count": 119,
   "metadata": {},
   "outputs": [
    {
     "data": {
      "text/plain": [
       "torch.Size([5, 4, 3])"
      ]
     },
     "execution_count": 119,
     "metadata": {},
     "output_type": "execute_result"
    }
   ],
   "source": [
    "encoder_output = torch.randn(seq_len, batch_size, encoder_hidden_size)\n",
    "encoder_output.shape"
   ]
  },
  {
   "cell_type": "code",
   "execution_count": 120,
   "metadata": {},
   "outputs": [
    {
     "name": "stdout",
     "output_type": "stream",
     "text": [
      "torch.Size([4, 6])\n",
      "tensor([[-0.4113,  0.5070, -0.0952,  0.8271,  0.4745,  0.1033],\n",
      "        [-0.4779, -2.2036,  0.3206,  1.3497,  0.4132,  1.2194],\n",
      "        [ 0.6687, -0.5755, -0.2852, -2.9046,  0.3243, -0.3207],\n",
      "        [-0.9867,  0.0064, -0.4692, -0.8371,  1.0053,  0.0793]])\n"
     ]
    }
   ],
   "source": [
    "# decoder_hidden = torch.tensor([[1, -1, 2, 1], [-1, -2, 1, -1]]).float()\n",
    "decoder_hidden = torch.randn(batch_size, decoder_hidden_size)\n",
    "\n",
    "print(decoder_hidden.shape)\n",
    "print(decoder_hidden)"
   ]
  },
  {
   "cell_type": "code",
   "execution_count": 125,
   "metadata": {},
   "outputs": [
    {
     "name": "stdout",
     "output_type": "stream",
     "text": [
      "torch.Size([4, 3])\n",
      "tensor([[ 0.2489, -0.6795,  0.5418],\n",
      "        [-1.0605,  0.3063,  1.2977],\n",
      "        [-0.4571,  0.1155,  0.3059],\n",
      "        [-1.6641, -1.0337,  0.4251]], grad_fn=<SumBackward1>)\n"
     ]
    }
   ],
   "source": [
    "class Attention(torch.nn.Module):\n",
    "    \n",
    "    def __init__(self, decoder_hidden_size, encoder_hidden_size):\n",
    "        super(Attention, self).__init__()\n",
    "        self.linear = torch.nn.Linear(\n",
    "            decoder_hidden_size, encoder_hidden_size)\n",
    "        \n",
    "    def forward(self, decoder_hidden, encoder_output):\n",
    "        h = self.linear(decoder_hidden)\n",
    "        encoder_output = encoder_output.transpose(0, 1)\n",
    "        a = torch.matmul(encoder_output, h.unsqueeze(-1)).squeeze()\n",
    "        a = torch.softmax(a, dim=1)\n",
    "        context = (a.unsqueeze(-1) * encoder_output).sum(1)\n",
    "        return context\n",
    "        \n",
    "        \n",
    "atten = Attention(\n",
    "    decoder_hidden_size=decoder_hidden_size,\n",
    "    encoder_hidden_size=encoder_hidden_size,\n",
    ")\n",
    "context = atten(decoder_hidden, encoder_output)\n",
    "print(context.shape)\n",
    "print(context)"
   ]
  },
  {
   "cell_type": "code",
   "execution_count": 111,
   "metadata": {},
   "outputs": [
    {
     "name": "stdout",
     "output_type": "stream",
     "text": [
      "torch.Size([2, 4])\n",
      "tensor([[ 0.6601, -1.0603, -0.0714,  0.7535],\n",
      "        [-0.0426, -0.5320,  0.3525, -0.6404]])\n"
     ]
    }
   ],
   "source": [
    "def forward(output, hidden):\n",
    "    output = output.transpose(0, 1)\n",
    "    a = torch.matmul(output, hidden.unsqueeze(-1)).squeeze()\n",
    "    a = torch.softmax(a, dim=1)\n",
    "    context = (a.unsqueeze(-1) * output).sum(1)\n",
    "    \n",
    "    \n",
    "contex = forward(output, hidden)\n",
    "\n",
    "print(context.shape)\n",
    "print(context)"
   ]
  }
 ],
 "metadata": {
  "kernelspec": {
   "display_name": "Python 3",
   "language": "python",
   "name": "python3"
  },
  "language_info": {
   "codemirror_mode": {
    "name": "ipython",
    "version": 3
   },
   "file_extension": ".py",
   "mimetype": "text/x-python",
   "name": "python",
   "nbconvert_exporter": "python",
   "pygments_lexer": "ipython3",
   "version": "3.7.3"
  }
 },
 "nbformat": 4,
 "nbformat_minor": 2
}
