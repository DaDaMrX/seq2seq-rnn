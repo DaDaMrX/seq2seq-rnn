{
 "cells": [
  {
   "cell_type": "markdown",
   "metadata": {},
   "source": [
    "# Load Dataset and Pre-Processing"
   ]
  },
  {
   "cell_type": "code",
   "execution_count": 1,
   "metadata": {},
   "outputs": [
    {
     "name": "stderr",
     "output_type": "stream",
     "text": [
      "/home/xhd/miniconda3/lib/python3.7/site-packages/tensorboard/compat/tensorflow_stub/dtypes.py:541: FutureWarning: Passing (type, 1) or '1type' as a synonym of type is deprecated; in a future version of numpy, it will be understood as (type, (1,)) / '(1,)type'.\n",
      "  _np_qint8 = np.dtype([(\"qint8\", np.int8, 1)])\n",
      "/home/xhd/miniconda3/lib/python3.7/site-packages/tensorboard/compat/tensorflow_stub/dtypes.py:542: FutureWarning: Passing (type, 1) or '1type' as a synonym of type is deprecated; in a future version of numpy, it will be understood as (type, (1,)) / '(1,)type'.\n",
      "  _np_quint8 = np.dtype([(\"quint8\", np.uint8, 1)])\n",
      "/home/xhd/miniconda3/lib/python3.7/site-packages/tensorboard/compat/tensorflow_stub/dtypes.py:543: FutureWarning: Passing (type, 1) or '1type' as a synonym of type is deprecated; in a future version of numpy, it will be understood as (type, (1,)) / '(1,)type'.\n",
      "  _np_qint16 = np.dtype([(\"qint16\", np.int16, 1)])\n",
      "/home/xhd/miniconda3/lib/python3.7/site-packages/tensorboard/compat/tensorflow_stub/dtypes.py:544: FutureWarning: Passing (type, 1) or '1type' as a synonym of type is deprecated; in a future version of numpy, it will be understood as (type, (1,)) / '(1,)type'.\n",
      "  _np_quint16 = np.dtype([(\"quint16\", np.uint16, 1)])\n",
      "/home/xhd/miniconda3/lib/python3.7/site-packages/tensorboard/compat/tensorflow_stub/dtypes.py:545: FutureWarning: Passing (type, 1) or '1type' as a synonym of type is deprecated; in a future version of numpy, it will be understood as (type, (1,)) / '(1,)type'.\n",
      "  _np_qint32 = np.dtype([(\"qint32\", np.int32, 1)])\n",
      "/home/xhd/miniconda3/lib/python3.7/site-packages/tensorboard/compat/tensorflow_stub/dtypes.py:550: FutureWarning: Passing (type, 1) or '1type' as a synonym of type is deprecated; in a future version of numpy, it will be understood as (type, (1,)) / '(1,)type'.\n",
      "  np_resource = np.dtype([(\"resource\", np.ubyte, 1)])\n"
     ]
    }
   ],
   "source": [
    "import re\n",
    "\n",
    "import pandas as pd\n",
    "from tqdm import tqdm_notebook as tqdm\n",
    "import matplotlib.pyplot as plt\n",
    "\n",
    "import torch\n",
    "from torch.utils.tensorboard import SummaryWriter"
   ]
  },
  {
   "cell_type": "markdown",
   "metadata": {},
   "source": [
    "# Read Files and Fill NaN"
   ]
  },
  {
   "cell_type": "code",
   "execution_count": 2,
   "metadata": {},
   "outputs": [
    {
     "data": {
      "text/html": [
       "<div>\n",
       "<style scoped>\n",
       "    .dataframe tbody tr th:only-of-type {\n",
       "        vertical-align: middle;\n",
       "    }\n",
       "\n",
       "    .dataframe tbody tr th {\n",
       "        vertical-align: top;\n",
       "    }\n",
       "\n",
       "    .dataframe thead th {\n",
       "        text-align: right;\n",
       "    }\n",
       "</style>\n",
       "<table border=\"1\" class=\"dataframe\">\n",
       "  <thead>\n",
       "    <tr style=\"text-align: right;\">\n",
       "      <th></th>\n",
       "      <th>1</th>\n",
       "      <th>2</th>\n",
       "      <th>3</th>\n",
       "      <th>4</th>\n",
       "    </tr>\n",
       "    <tr>\n",
       "      <th>0</th>\n",
       "      <th></th>\n",
       "      <th></th>\n",
       "      <th></th>\n",
       "      <th></th>\n",
       "    </tr>\n",
       "  </thead>\n",
       "  <tbody>\n",
       "    <tr>\n",
       "      <th>L1045</th>\n",
       "      <td>u0</td>\n",
       "      <td>m0</td>\n",
       "      <td>BIANCA</td>\n",
       "      <td>They do not!</td>\n",
       "    </tr>\n",
       "    <tr>\n",
       "      <th>L1044</th>\n",
       "      <td>u2</td>\n",
       "      <td>m0</td>\n",
       "      <td>CAMERON</td>\n",
       "      <td>They do to!</td>\n",
       "    </tr>\n",
       "    <tr>\n",
       "      <th>L985</th>\n",
       "      <td>u0</td>\n",
       "      <td>m0</td>\n",
       "      <td>BIANCA</td>\n",
       "      <td>I hope so.</td>\n",
       "    </tr>\n",
       "    <tr>\n",
       "      <th>L984</th>\n",
       "      <td>u2</td>\n",
       "      <td>m0</td>\n",
       "      <td>CAMERON</td>\n",
       "      <td>She okay?</td>\n",
       "    </tr>\n",
       "    <tr>\n",
       "      <th>L925</th>\n",
       "      <td>u0</td>\n",
       "      <td>m0</td>\n",
       "      <td>BIANCA</td>\n",
       "      <td>Let's go.</td>\n",
       "    </tr>\n",
       "  </tbody>\n",
       "</table>\n",
       "</div>"
      ],
      "text/plain": [
       "        1   2        3             4\n",
       "0                                   \n",
       "L1045  u0  m0   BIANCA  They do not!\n",
       "L1044  u2  m0  CAMERON   They do to!\n",
       "L985   u0  m0   BIANCA    I hope so.\n",
       "L984   u2  m0  CAMERON     She okay?\n",
       "L925   u0  m0   BIANCA     Let's go."
      ]
     },
     "execution_count": 2,
     "metadata": {},
     "output_type": "execute_result"
    }
   ],
   "source": [
    "lines_path = 'data/movie_lines.txt'\n",
    "convs_path = 'data/movie_conversations.txt'\n",
    "\n",
    "lines_df = pd.read_csv(lines_path,\n",
    "                    sep='\\s*\\+\\+\\+\\$\\+\\+\\+\\s*', \n",
    "                    engine='python',\n",
    "                    header=None,\n",
    "                    index_col=0)\n",
    "\n",
    "lines_df.head()"
   ]
  },
  {
   "cell_type": "code",
   "execution_count": 3,
   "metadata": {},
   "outputs": [
    {
     "data": {
      "text/plain": [
       "1      0\n",
       "2      0\n",
       "3     43\n",
       "4    267\n",
       "dtype: int64"
      ]
     },
     "execution_count": 3,
     "metadata": {},
     "output_type": "execute_result"
    }
   ],
   "source": [
    "lines_df.isna().sum()"
   ]
  },
  {
   "cell_type": "code",
   "execution_count": 4,
   "metadata": {},
   "outputs": [],
   "source": [
    "lines_df.iloc[:, -1].fillna('', inplace=True)"
   ]
  },
  {
   "cell_type": "code",
   "execution_count": 5,
   "metadata": {},
   "outputs": [
    {
     "data": {
      "text/plain": [
       "1     0\n",
       "2     0\n",
       "3    43\n",
       "4     0\n",
       "dtype: int64"
      ]
     },
     "execution_count": 5,
     "metadata": {},
     "output_type": "execute_result"
    }
   ],
   "source": [
    "lines_df.isna().sum()"
   ]
  },
  {
   "cell_type": "code",
   "execution_count": 6,
   "metadata": {},
   "outputs": [
    {
     "data": {
      "text/html": [
       "<div>\n",
       "<style scoped>\n",
       "    .dataframe tbody tr th:only-of-type {\n",
       "        vertical-align: middle;\n",
       "    }\n",
       "\n",
       "    .dataframe tbody tr th {\n",
       "        vertical-align: top;\n",
       "    }\n",
       "\n",
       "    .dataframe thead th {\n",
       "        text-align: right;\n",
       "    }\n",
       "</style>\n",
       "<table border=\"1\" class=\"dataframe\">\n",
       "  <thead>\n",
       "    <tr style=\"text-align: right;\">\n",
       "      <th></th>\n",
       "      <th>0</th>\n",
       "      <th>1</th>\n",
       "      <th>2</th>\n",
       "      <th>3</th>\n",
       "    </tr>\n",
       "  </thead>\n",
       "  <tbody>\n",
       "    <tr>\n",
       "      <th>0</th>\n",
       "      <td>u0</td>\n",
       "      <td>u2</td>\n",
       "      <td>m0</td>\n",
       "      <td>['L194', 'L195', 'L196', 'L197']</td>\n",
       "    </tr>\n",
       "    <tr>\n",
       "      <th>1</th>\n",
       "      <td>u0</td>\n",
       "      <td>u2</td>\n",
       "      <td>m0</td>\n",
       "      <td>['L198', 'L199']</td>\n",
       "    </tr>\n",
       "    <tr>\n",
       "      <th>2</th>\n",
       "      <td>u0</td>\n",
       "      <td>u2</td>\n",
       "      <td>m0</td>\n",
       "      <td>['L200', 'L201', 'L202', 'L203']</td>\n",
       "    </tr>\n",
       "    <tr>\n",
       "      <th>3</th>\n",
       "      <td>u0</td>\n",
       "      <td>u2</td>\n",
       "      <td>m0</td>\n",
       "      <td>['L204', 'L205', 'L206']</td>\n",
       "    </tr>\n",
       "    <tr>\n",
       "      <th>4</th>\n",
       "      <td>u0</td>\n",
       "      <td>u2</td>\n",
       "      <td>m0</td>\n",
       "      <td>['L207', 'L208']</td>\n",
       "    </tr>\n",
       "  </tbody>\n",
       "</table>\n",
       "</div>"
      ],
      "text/plain": [
       "    0   1   2                                 3\n",
       "0  u0  u2  m0  ['L194', 'L195', 'L196', 'L197']\n",
       "1  u0  u2  m0                  ['L198', 'L199']\n",
       "2  u0  u2  m0  ['L200', 'L201', 'L202', 'L203']\n",
       "3  u0  u2  m0          ['L204', 'L205', 'L206']\n",
       "4  u0  u2  m0                  ['L207', 'L208']"
      ]
     },
     "execution_count": 6,
     "metadata": {},
     "output_type": "execute_result"
    }
   ],
   "source": [
    "convs_df = pd.read_csv(convs_path,\n",
    "                    sep='\\s*\\+\\+\\+\\$\\+\\+\\+\\s*', \n",
    "                    engine='python',\n",
    "                    header=None)\n",
    "\n",
    "convs_df.head()"
   ]
  },
  {
   "cell_type": "code",
   "execution_count": 7,
   "metadata": {},
   "outputs": [
    {
     "data": {
      "text/plain": [
       "0    0\n",
       "1    0\n",
       "2    0\n",
       "3    0\n",
       "dtype: int64"
      ]
     },
     "execution_count": 7,
     "metadata": {},
     "output_type": "execute_result"
    }
   ],
   "source": [
    "convs_df.isna().sum()"
   ]
  },
  {
   "cell_type": "markdown",
   "metadata": {},
   "source": [
    "# Obtain Conversations"
   ]
  },
  {
   "cell_type": "code",
   "execution_count": 8,
   "metadata": {},
   "outputs": [
    {
     "data": {
      "application/vnd.jupyter.widget-view+json": {
       "model_id": "a2dfbcce0bbb4a69b55a154c9ccb7757",
       "version_major": 2,
       "version_minor": 0
      },
      "text/plain": [
       "HBox(children=(IntProgress(value=0, description='Build', max=83097, style=ProgressStyle(description_width='ini…"
      ]
     },
     "metadata": {},
     "output_type": "display_data"
    },
    {
     "name": "stdout",
     "output_type": "stream",
     "text": [
      "\n"
     ]
    }
   ],
   "source": [
    "convs_data = []\n",
    "for line_ids in tqdm(convs_df.iloc[:, -1], desc='Build'):\n",
    "    conv = []\n",
    "    for line_id in eval(line_ids):\n",
    "        conv.append(lines_df.loc[line_id].iloc[-1])\n",
    "    convs_data.append(conv)"
   ]
  },
  {
   "cell_type": "markdown",
   "metadata": {},
   "source": [
    "## (Check Length of Conversations)"
   ]
  },
  {
   "cell_type": "code",
   "execution_count": 9,
   "metadata": {},
   "outputs": [
    {
     "data": {
      "image/png": "[encoded data removed]",
      "text/plain": [
       "<Figure size 432x288 with 1 Axes>"
      ]
     },
     "metadata": {
      "needs_background": "light"
     },
     "output_type": "display_data"
    }
   ],
   "source": [
    "lens = [len(conv) for conv in convs_data]\n",
    "plt.hist(lens, bins=30)\n",
    "plt.ylim(0, 100)\n",
    "plt.show()"
   ]
  },
  {
   "cell_type": "markdown",
   "metadata": {},
   "source": [
    "# Clean Each Sentence and Tokenize"
   ]
  },
  {
   "cell_type": "code",
   "execution_count": 10,
   "metadata": {},
   "outputs": [],
   "source": [
    "def clean(sent):\n",
    "    sent = sent.lower().strip()\n",
    "    sent = re.sub(r'[^a-zA-Z.!?]+', r' ', sent)\n",
    "    sent = re.sub(r'([.!?])\\1*', r' \\1', sent)\n",
    "    sent = re.sub(r'\\s+', r' ', sent)\n",
    "    sent = sent.strip().split()\n",
    "    return sent"
   ]
  },
  {
   "cell_type": "code",
   "execution_count": 11,
   "metadata": {},
   "outputs": [
    {
     "data": {
      "application/vnd.jupyter.widget-view+json": {
       "model_id": "1e74fb39e0044d8b8477a5b9a62c47ff",
       "version_major": 2,
       "version_minor": 0
      },
      "text/plain": [
       "HBox(children=(IntProgress(value=0, description='Clean', max=83097, style=ProgressStyle(description_width='ini…"
      ]
     },
     "metadata": {},
     "output_type": "display_data"
    },
    {
     "name": "stdout",
     "output_type": "stream",
     "text": [
      "\n"
     ]
    }
   ],
   "source": [
    "convs = []\n",
    "for conv in tqdm(convs_data, desc='Clean'):\n",
    "    convs.append(list(map(clean, conv)))"
   ]
  },
  {
   "cell_type": "markdown",
   "metadata": {},
   "source": [
    "## (Check Length of Each Sentence )"
   ]
  },
  {
   "cell_type": "code",
   "execution_count": 12,
   "metadata": {},
   "outputs": [
    {
     "data": {
      "image/png": "[encoded data removed]",
      "text/plain": [
       "<Figure size 432x288 with 1 Axes>"
      ]
     },
     "metadata": {
      "needs_background": "light"
     },
     "output_type": "display_data"
    }
   ],
   "source": [
    "lens = []\n",
    "for conv in convs:\n",
    "    for sent in conv:\n",
    "        lens.append(len(sent))\n",
    "plt.hist(lens, bins=50)\n",
    "plt.ylim(0, 5000)\n",
    "plt.show()"
   ]
  },
  {
   "cell_type": "code",
   "execution_count": 13,
   "metadata": {},
   "outputs": [
    {
     "name": "stdout",
     "output_type": "stream",
     "text": [
      "281094 304713 0.9224877179509899\n"
     ]
    }
   ],
   "source": [
    "lens_short = [x for x in lens if x <= 30]\n",
    "print(len(lens_short), len(lens), len(lens_short) / len(lens))"
   ]
  },
  {
   "cell_type": "markdown",
   "metadata": {},
   "source": [
    "# Make Sentence Pairs and Filter"
   ]
  },
  {
   "cell_type": "code",
   "execution_count": 14,
   "metadata": {},
   "outputs": [
    {
     "name": "stdout",
     "output_type": "stream",
     "text": [
      "221616\n"
     ]
    }
   ],
   "source": [
    "pairs = []\n",
    "for conv in convs:\n",
    "    for i in range(len(conv) - 1):\n",
    "        pairs.append((conv[i], conv[i + 1]))\n",
    "        \n",
    "print(len(pairs))"
   ]
  },
  {
   "cell_type": "code",
   "execution_count": 15,
   "metadata": {},
   "outputs": [
    {
     "name": "stdout",
     "output_type": "stream",
     "text": [
      "188774\n",
      "['can', 'we', 'make', 'this', 'quick', '?', 'roxanne', 'korrine', 'and', 'andrew', 'barrett', 'are', 'having', 'an', 'incredibly', 'horrendous', 'public', 'break', 'up', 'on', 'the', 'quad', '.', 'again', '.']\n",
      "['well', 'i', 'thought', 'we', 'd', 'start', 'with', 'pronunciation', 'if', 'that', 's', 'okay', 'with', 'you', '.']\n"
     ]
    }
   ],
   "source": [
    "def filter_pairs(pairs, min_length):\n",
    "    pairs_short = []\n",
    "    for a, b in pairs:\n",
    "        if len(a) > 0 and len(a) <= MIN_LENGTH \\\n",
    "            and len(b) > 0 and len(b) <= MIN_LENGTH:\n",
    "            pairs_short.append((a, b))\n",
    "    return pairs_short\n",
    "\n",
    "\n",
    "MIN_LENGTH = 30\n",
    "pairs = filter_pairs(pairs, MIN_LENGTH)\n",
    "\n",
    "print(len(pairs))\n",
    "print(pairs[0][0])\n",
    "print(pairs[0][1])"
   ]
  },
  {
   "cell_type": "code",
   "execution_count": 16,
   "metadata": {},
   "outputs": [
    {
     "data": {
      "text/plain": [
       "['Can we make this quick?  Roxanne Korrine and Andrew Barrett are having an incredibly horrendous public break- up on the quad.  Again.',\n",
       " \"Well, I thought we'd start with pronunciation, if that's okay with you.\",\n",
       " 'Not the hacking and gagging and spitting part.  Please.',\n",
       " \"Okay... then how 'bout we try out some French cuisine.  Saturday?  Night?\"]"
      ]
     },
     "execution_count": 16,
     "metadata": {},
     "output_type": "execute_result"
    }
   ],
   "source": [
    "convs_data[0]"
   ]
  },
  {
   "cell_type": "markdown",
   "metadata": {},
   "source": [
    "# Make Vocabulary"
   ]
  },
  {
   "cell_type": "code",
   "execution_count": 17,
   "metadata": {},
   "outputs": [],
   "source": [
    "class Vocab:\n",
    "    \n",
    "    def __init__(self):\n",
    "        self.special_tokens = ['<pad>', '<eos>', '<unk>']\n",
    "        self.word_count = {}\n",
    "        self.index2word = []\n",
    "        self.word2index = {}\n",
    "        \n",
    "    def add_word(self, word):\n",
    "        if word in self.word_count:\n",
    "            self.word_count[word] += 1\n",
    "        else:\n",
    "            self.word_count[word] = 1\n",
    "            \n",
    "    def make_vocab(self, size):\n",
    "        self.word_count = sorted(self.word_count, key=self.word_count.get, reverse=True)\n",
    "     \n",
    "        for w in self.special_tokens + self.word_count[:size]:\n",
    "            self.index2word.append(w)\n",
    "            self.word2index[w] = len(self.index2word) - 1\n",
    "                \n",
    "    def __len__(self):\n",
    "        return len(self.index2word)\n",
    "                \n",
    "    def __getitem__(self, query):\n",
    "        if isinstance(query, int):\n",
    "            return self.index2word[query]\n",
    "        if isinstance(query, str):\n",
    "            if query in self.word2index:\n",
    "                return self.word2index[query]\n",
    "            else:\n",
    "                return self.word2index['<unk>']"
   ]
  },
  {
   "cell_type": "markdown",
   "metadata": {},
   "source": [
    "## (Test Vocab)"
   ]
  },
  {
   "cell_type": "code",
   "execution_count": 18,
   "metadata": {},
   "outputs": [
    {
     "name": "stdout",
     "output_type": "stream",
     "text": [
      "{'a': 3, 'boy': 2, 'cow': 1, 'and': 1}\n",
      "['<pad>', '<eos>', '<unk>', 'a', 'boy', 'cow']\n",
      "{'<pad>': 0, '<eos>': 1, '<unk>': 2, 'a': 3, 'boy': 4, 'cow': 5}\n",
      "6\n",
      "boy\n",
      "1\n",
      "2\n"
     ]
    }
   ],
   "source": [
    "a = ['a', 'boy', 'cow', 'and', 'a', 'boy', 'a']\n",
    "\n",
    "vocab = Vocab()\n",
    "for word in a:\n",
    "    vocab.add_word(word)\n",
    "print(vocab.word_count)\n",
    "\n",
    "vocab.make_vocab(size=3)\n",
    "\n",
    "print(vocab.index2word)\n",
    "print(vocab.word2index)\n",
    "print(len(vocab))\n",
    "print(vocab[4])\n",
    "print(vocab['<eos>'])\n",
    "print(vocab['abc'])"
   ]
  },
  {
   "cell_type": "markdown",
   "metadata": {},
   "source": [
    "# Build Vocabuary"
   ]
  },
  {
   "cell_type": "code",
   "execution_count": 19,
   "metadata": {},
   "outputs": [
    {
     "name": "stdout",
     "output_type": "stream",
     "text": [
      "41034\n"
     ]
    }
   ],
   "source": [
    "vocab = Vocab()\n",
    "for i in range(len(pairs) - 1):\n",
    "    if pairs[i][1] == pairs[i + 1][0]:\n",
    "        words = pairs[i][0]\n",
    "    else:\n",
    "        words = pairs[i][0] + pairs[i][1]\n",
    "    for word in words:\n",
    "        vocab.add_word(word)\n",
    "        \n",
    "print(len(vocab.word_count))"
   ]
  },
  {
   "cell_type": "markdown",
   "metadata": {},
   "source": [
    "## (Check Word Count)"
   ]
  },
  {
   "cell_type": "code",
   "execution_count": 20,
   "metadata": {},
   "outputs": [
    {
     "data": {
      "image/png": "[encoded data removed]",
      "text/plain": [
       "<Figure size 432x288 with 1 Axes>"
      ]
     },
     "metadata": {
      "needs_background": "light"
     },
     "output_type": "display_data"
    }
   ],
   "source": [
    "a = sorted(vocab.word_count.values(), reverse=True)\n",
    "plt.plot(a)\n",
    "plt.ylim(0, 50)\n",
    "plt.show()"
   ]
  },
  {
   "cell_type": "code",
   "execution_count": 21,
   "metadata": {},
   "outputs": [
    {
     "name": "stdout",
     "output_type": "stream",
     "text": [
      "7\n"
     ]
    }
   ],
   "source": [
    "print(a[10000])"
   ]
  },
  {
   "cell_type": "code",
   "execution_count": 22,
   "metadata": {},
   "outputs": [],
   "source": [
    "VOCAB_SIZE = 10000\n",
    "vocab.make_vocab(size=VOCAB_SIZE)"
   ]
  },
  {
   "cell_type": "code",
   "execution_count": 23,
   "metadata": {},
   "outputs": [
    {
     "data": {
      "text/plain": [
       "10003"
      ]
     },
     "execution_count": 23,
     "metadata": {},
     "output_type": "execute_result"
    }
   ],
   "source": [
    "len(vocab)"
   ]
  },
  {
   "cell_type": "markdown",
   "metadata": {},
   "source": [
    "# Build Dataset"
   ]
  },
  {
   "cell_type": "code",
   "execution_count": 24,
   "metadata": {},
   "outputs": [],
   "source": [
    "class Dataset(torch.utils.data.Dataset):\n",
    "    \n",
    "    def __init__(self, pairs, vocab):\n",
    "        self.pairs = pairs\n",
    "        self.vocab = vocab\n",
    "    \n",
    "    def __getitem__(self, index):\n",
    "        x, y = self.pairs[index]\n",
    "        x = [vocab[w] for w in x]\n",
    "        y = [vocab[w] for w in y] + [vocab['<eos>']]\n",
    "        return x, y\n",
    "    \n",
    "    def __len__(self):\n",
    "        return len(self.pairs)"
   ]
  },
  {
   "cell_type": "code",
   "execution_count": 25,
   "metadata": {},
   "outputs": [
    {
     "name": "stdout",
     "output_type": "stream",
     "text": [
      "188774\n",
      "['can', 'we', 'make', 'this', 'quick', '?', 'roxanne', 'korrine', 'and', 'andrew', 'barrett', 'are', 'having', 'an', 'incredibly', 'horrendous', 'public', 'break', 'up', 'on', 'the', 'quad', '.', 'again', '.']\n",
      "[39, 20, 115, 26, 886, 6, 2, 2, 17, 4306, 6942, 37, 418, 85, 3831, 2, 1189, 496, 57, 35, 7, 2, 3, 185, 3]\n",
      "['well', 'i', 'thought', 'we', 'd', 'start', 'with', 'pronunciation', 'if', 'that', 's', 'okay', 'with', 'you', '.']\n",
      "[61, 5, 144, 20, 78, 323, 41, 2, 55, 13, 9, 107, 41, 4, 3, 1]\n",
      "['<pad>', '<eos>', '<unk>', '.', 'you', 'i', '?', 'the', 'to', 's', 'it', 'a', 't', 'that', 'what', '!', 'of', 'and', 'me', 'in']\n"
     ]
    }
   ],
   "source": [
    "dataset = Dataset(pairs, vocab)\n",
    "\n",
    "print(len(dataset))\n",
    "print(pairs[0][0])\n",
    "print(dataset[0][0])\n",
    "print(pairs[0][1])\n",
    "print(dataset[0][1])\n",
    "print(vocab.index2word[:20])"
   ]
  },
  {
   "cell_type": "markdown",
   "metadata": {},
   "source": [
    "# Collate Function"
   ]
  },
  {
   "cell_type": "code",
   "execution_count": 26,
   "metadata": {},
   "outputs": [
    {
     "name": "stdout",
     "output_type": "stream",
     "text": [
      "tensor([[1, 1],\n",
      "        [2, 0],\n",
      "        [3, 0]])\n",
      "tensor([[1, 1],\n",
      "        [2, 2],\n",
      "        [0, 3]])\n"
     ]
    }
   ],
   "source": [
    "def collate_fn(batch):\n",
    "    batch_x, batch_y = [], []\n",
    "    for x, y in batch:\n",
    "        batch_x.append(torch.tensor(x))\n",
    "        batch_y.append(torch.tensor(y))\n",
    "    batch_x = torch.nn.utils.rnn.pad_sequence(batch_x, padding_value=0)    \n",
    "    batch_y = torch.nn.utils.rnn.pad_sequence(batch_y, padding_value=0)\n",
    "    return batch_x, batch_y\n",
    "\n",
    "\n",
    "batch = [\n",
    "    ([1, 2, 3], [1, 2]),\n",
    "    ([1], [1, 2, 3]),\n",
    "]\n",
    "\n",
    "batch_x, batch_y = collate_fn(batch)\n",
    "print(batch_x)\n",
    "print(batch_y)"
   ]
  },
  {
   "cell_type": "code",
   "execution_count": 27,
   "metadata": {},
   "outputs": [
    {
     "data": {
      "text/plain": [
       "tensor([0, 1], dtype=torch.int32)"
      ]
     },
     "execution_count": 27,
     "metadata": {},
     "output_type": "execute_result"
    }
   ],
   "source": [
    "x = batch_x\n",
    "\n",
    "((x != 0).sum(dim=0) <= 2).int()"
   ]
  },
  {
   "cell_type": "markdown",
   "metadata": {},
   "source": [
    "# DataLoader"
   ]
  },
  {
   "cell_type": "code",
   "execution_count": 28,
   "metadata": {},
   "outputs": [],
   "source": [
    "data_loader = torch.utils.data.DataLoader(\n",
    "    dataset, \n",
    "    batch_size=4,\n",
    "    collate_fn=collate_fn,\n",
    ")"
   ]
  },
  {
   "cell_type": "code",
   "execution_count": 29,
   "metadata": {},
   "outputs": [
    {
     "name": "stdout",
     "output_type": "stream",
     "text": [
      "torch.Size([25, 4])\n",
      "torch.Size([17, 4])\n"
     ]
    }
   ],
   "source": [
    "a = next(iter(data_loader))\n",
    "print(a[0].shape)\n",
    "print(a[1].shape)"
   ]
  },
  {
   "cell_type": "markdown",
   "metadata": {},
   "source": [
    "# Model"
   ]
  },
  {
   "cell_type": "code",
   "execution_count": 30,
   "metadata": {},
   "outputs": [
    {
     "name": "stdout",
     "output_type": "stream",
     "text": [
      "torch.Size([25, 4, 8]) torch.Size([4, 4]) torch.Size([4, 4])\n"
     ]
    }
   ],
   "source": [
    "class Encoder(torch.nn.Module):\n",
    "    \n",
    "    def __init__(self, embed, hidden_size, pad_value):\n",
    "        super(Encoder, self).__init__()\n",
    "        self.pad_value = pad_value\n",
    "        self.embed = embed\n",
    "        self.lstm = torch.nn.LSTM(\n",
    "            input_size=embed.embedding_dim,\n",
    "            hidden_size=hidden_size,\n",
    "            num_layers=1,\n",
    "            bidirectional=True,\n",
    "        )\n",
    "        \n",
    "    def forward(self, x):\n",
    "        lengths = (x != self.pad_value).sum(dim=0)\n",
    "        x = self.embed(x)\n",
    "        x = torch.nn.utils.rnn.pack_padded_sequence(\n",
    "            x, lengths, enforce_sorted=False)\n",
    "        output, (h, c) = self.lstm(x)\n",
    "        output, _ = torch.nn.utils.rnn.pad_packed_sequence(\n",
    "            output, padding_value=self.pad_value)\n",
    "        return output, (h.mean(dim=0), c.mean(dim=0))\n",
    "\n",
    "    \n",
    "vocab_size = 10\n",
    "embed_size = 5\n",
    "batch_size = 4\n",
    "hidden_size = 4\n",
    "\n",
    "embed = torch.nn.Embedding(len(vocab), embed_size)\n",
    "encoder = Encoder(embed, hidden_size, pad_value=0)\n",
    "batch_x, batch_y = next(iter(data_loader))\n",
    "contex, (h, c) = encoder(batch_x)\n",
    "print(contex.shape, h.shape, c.shape)"
   ]
  },
  {
   "cell_type": "code",
   "execution_count": 31,
   "metadata": {},
   "outputs": [],
   "source": [
    "class Decoder(torch.nn.Module):\n",
    "    \n",
    "    def __init__(self, embed, hidden_size, start_token):\n",
    "        super(Decoder, self).__init__()\n",
    "        self.start_token = start_token\n",
    "        self.embed = embed\n",
    "        self.lstm_cell = torch.nn.LSTMCell(\n",
    "            embed.embedding_dim, hidden_size)\n",
    "        self.out = torch.nn.Sequential(\n",
    "            torch.nn.Linear(2 * hidden_size, hidden_size),\n",
    "            torch.nn.ReLU(),\n",
    "            torch.nn.Linear(hidden_size, embed.num_embeddings),\n",
    "        )\n",
    "        \n",
    "    def forward(self, hidden, contex, y):\n",
    "        y_preds = []\n",
    "        h, c = hidden\n",
    "        x = torch.empty(*y.size()[1:], dtype=torch.long)\n",
    "        x = x.fill_(self.start_token)\n",
    "        for i in range(len(y)):\n",
    "            x = self.embed(x)\n",
    "            h, c = self.lstm_cell(x, (h, c))\n",
    "            y_pred = self.out(torch.cat([h, c], dim=1))\n",
    "            y_preds.append(y_pred)\n",
    "            x = y[i]\n",
    "        return torch.stack(y_preds)"
   ]
  },
  {
   "cell_type": "code",
   "execution_count": 32,
   "metadata": {},
   "outputs": [],
   "source": [
    "class Seq2Seq(torch.nn.Module):\n",
    "    \n",
    "    def __init__(self, vocab_size, embed_size, hidden_size, \n",
    "                 pad_value, start_token):\n",
    "        super(Seq2Seq, self).__init__()\n",
    "        self.embed = torch.nn.Embedding(vocab_size, embed_size)\n",
    "        self.encoder = Encoder(embed, hidden_size, pad_value)\n",
    "        self.decoder = Decoder(embed, hidden_size, start_token)\n",
    "        \n",
    "    def forward(self, x, y):\n",
    "        contex, (h, c) = self.encoder(x)\n",
    "        y_preds = self.decoder((h, c), contex, y)\n",
    "        return y_preds"
   ]
  },
  {
   "cell_type": "code",
   "execution_count": 37,
   "metadata": {
    "scrolled": false
   },
   "outputs": [
    {
     "data": {
      "application/vnd.jupyter.widget-view+json": {
       "model_id": "c37d96e014e642dfb747812a8ce156a9",
       "version_major": 2,
       "version_minor": 0
      },
      "text/plain": [
       "HBox(children=(IntProgress(value=0, description='Total', max=2, style=ProgressStyle(description_width='initial…"
      ]
     },
     "metadata": {},
     "output_type": "display_data"
    },
    {
     "data": {
      "application/vnd.jupyter.widget-view+json": {
       "model_id": "5ce352ecd73449dbad972459dfb70428",
       "version_major": 2,
       "version_minor": 0
      },
      "text/plain": [
       "HBox(children=(IntProgress(value=0, description='Train Epoch 0', max=47194, style=ProgressStyle(description_wi…"
      ]
     },
     "metadata": {},
     "output_type": "display_data"
    },
    {
     "name": "stderr",
     "output_type": "stream",
     "text": [
      "IOPub message rate exceeded.\n",
      "The notebook server will temporarily stop sending output\n",
      "to the client in order to avoid crashing it.\n",
      "To change this limit, set the config variable\n",
      "`--NotebookApp.iopub_msg_rate_limit`.\n",
      "\n",
      "Current values:\n",
      "NotebookApp.iopub_msg_rate_limit=1000.0 (msgs/sec)\n",
      "NotebookApp.rate_limit_window=3.0 (secs)\n",
      "\n",
      "IOPub message rate exceeded.\n",
      "The notebook server will temporarily stop sending output\n",
      "to the client in order to avoid crashing it.\n",
      "To change this limit, set the config variable\n",
      "`--NotebookApp.iopub_msg_rate_limit`.\n",
      "\n",
      "Current values:\n",
      "NotebookApp.iopub_msg_rate_limit=1000.0 (msgs/sec)\n",
      "NotebookApp.rate_limit_window=3.0 (secs)\n",
      "\n"
     ]
    },
    {
     "ename": "KeyboardInterrupt",
     "evalue": "",
     "output_type": "error",
     "traceback": [
      "\u001b[0;31m---------------------------------------------------------------------------\u001b[0m",
      "\u001b[0;31mKeyboardInterrupt\u001b[0m                         Traceback (most recent call last)",
      "\u001b[0;32m<ipython-input-37-e6834ec0c7a6>\u001b[0m in \u001b[0;36m<module>\u001b[0;34m\u001b[0m\n\u001b[1;32m    109\u001b[0m \u001b[0;34m\u001b[0m\u001b[0m\n\u001b[1;32m    110\u001b[0m \u001b[0;31m# trainer.overfit_one_batch(800)\u001b[0m\u001b[0;34m\u001b[0m\u001b[0;34m\u001b[0m\u001b[0;34m\u001b[0m\u001b[0m\n\u001b[0;32m--> 111\u001b[0;31m \u001b[0mtrainer\u001b[0m\u001b[0;34m.\u001b[0m\u001b[0mfit\u001b[0m\u001b[0;34m(\u001b[0m\u001b[0;34m)\u001b[0m\u001b[0;34m\u001b[0m\u001b[0;34m\u001b[0m\u001b[0m\n\u001b[0m",
      "\u001b[0;32m<ipython-input-37-e6834ec0c7a6>\u001b[0m in \u001b[0;36mfit\u001b[0;34m(self)\u001b[0m\n\u001b[1;32m     69\u001b[0m     \u001b[0;32mdef\u001b[0m \u001b[0mfit\u001b[0m\u001b[0;34m(\u001b[0m\u001b[0mself\u001b[0m\u001b[0;34m)\u001b[0m\u001b[0;34m:\u001b[0m\u001b[0;34m\u001b[0m\u001b[0;34m\u001b[0m\u001b[0m\n\u001b[1;32m     70\u001b[0m         \u001b[0;32mfor\u001b[0m \u001b[0mepoch\u001b[0m \u001b[0;32min\u001b[0m \u001b[0mtqdm\u001b[0m\u001b[0;34m(\u001b[0m\u001b[0mrange\u001b[0m\u001b[0;34m(\u001b[0m\u001b[0mself\u001b[0m\u001b[0;34m.\u001b[0m\u001b[0mn_epoch\u001b[0m\u001b[0;34m)\u001b[0m\u001b[0;34m,\u001b[0m \u001b[0mdesc\u001b[0m\u001b[0;34m=\u001b[0m\u001b[0;34m'Total'\u001b[0m\u001b[0;34m)\u001b[0m\u001b[0;34m:\u001b[0m\u001b[0;34m\u001b[0m\u001b[0;34m\u001b[0m\u001b[0m\n\u001b[0;32m---> 71\u001b[0;31m             \u001b[0mself\u001b[0m\u001b[0;34m.\u001b[0m\u001b[0mtrain_epoch\u001b[0m\u001b[0;34m(\u001b[0m\u001b[0mepoch\u001b[0m\u001b[0;34m)\u001b[0m\u001b[0;34m\u001b[0m\u001b[0;34m\u001b[0m\u001b[0m\n\u001b[0m\u001b[1;32m     72\u001b[0m             \u001b[0;32mif\u001b[0m \u001b[0mself\u001b[0m\u001b[0;34m.\u001b[0m\u001b[0mvalid_dataloader\u001b[0m \u001b[0;32mis\u001b[0m \u001b[0;32mnot\u001b[0m \u001b[0;32mNone\u001b[0m\u001b[0;34m:\u001b[0m\u001b[0;34m\u001b[0m\u001b[0;34m\u001b[0m\u001b[0m\n\u001b[1;32m     73\u001b[0m                 \u001b[0mself\u001b[0m\u001b[0;34m.\u001b[0m\u001b[0mvalid_epoch\u001b[0m\u001b[0;34m(\u001b[0m\u001b[0mepoch\u001b[0m\u001b[0;34m)\u001b[0m\u001b[0;34m\u001b[0m\u001b[0;34m\u001b[0m\u001b[0m\n",
      "\u001b[0;32m<ipython-input-37-e6834ec0c7a6>\u001b[0m in \u001b[0;36mtrain_epoch\u001b[0;34m(self, epoch)\u001b[0m\n\u001b[1;32m     79\u001b[0m         \u001b[0mpbar\u001b[0m \u001b[0;34m=\u001b[0m \u001b[0mtqdm\u001b[0m\u001b[0;34m(\u001b[0m\u001b[0mself\u001b[0m\u001b[0;34m.\u001b[0m\u001b[0mtrain_dataloader\u001b[0m\u001b[0;34m,\u001b[0m \u001b[0mdesc\u001b[0m\u001b[0;34m=\u001b[0m\u001b[0;34mf'Train Epoch {epoch}'\u001b[0m\u001b[0;34m)\u001b[0m\u001b[0;34m\u001b[0m\u001b[0;34m\u001b[0m\u001b[0m\n\u001b[1;32m     80\u001b[0m         \u001b[0;32mfor\u001b[0m \u001b[0midx\u001b[0m\u001b[0;34m,\u001b[0m \u001b[0mbatch\u001b[0m \u001b[0;32min\u001b[0m \u001b[0menumerate\u001b[0m\u001b[0;34m(\u001b[0m\u001b[0mpbar\u001b[0m\u001b[0;34m)\u001b[0m\u001b[0;34m:\u001b[0m\u001b[0;34m\u001b[0m\u001b[0;34m\u001b[0m\u001b[0m\n\u001b[0;32m---> 81\u001b[0;31m             \u001b[0mstate\u001b[0m \u001b[0;34m=\u001b[0m \u001b[0mself\u001b[0m\u001b[0;34m.\u001b[0m\u001b[0mtrain_batch\u001b[0m\u001b[0;34m(\u001b[0m\u001b[0mbatch\u001b[0m\u001b[0;34m,\u001b[0m \u001b[0midx\u001b[0m\u001b[0;34m)\u001b[0m\u001b[0;34m\u001b[0m\u001b[0;34m\u001b[0m\u001b[0m\n\u001b[0m\u001b[1;32m     82\u001b[0m             \u001b[0mpbar\u001b[0m\u001b[0;34m.\u001b[0m\u001b[0mset_postfix\u001b[0m\u001b[0;34m(\u001b[0m\u001b[0mstate\u001b[0m\u001b[0;34m)\u001b[0m\u001b[0;34m\u001b[0m\u001b[0;34m\u001b[0m\u001b[0m\n\u001b[1;32m     83\u001b[0m             \u001b[0;32mif\u001b[0m \u001b[0mself\u001b[0m\u001b[0;34m.\u001b[0m\u001b[0mwriter\u001b[0m \u001b[0;32mis\u001b[0m \u001b[0;32mnot\u001b[0m \u001b[0;32mNone\u001b[0m\u001b[0;34m:\u001b[0m\u001b[0;34m\u001b[0m\u001b[0;34m\u001b[0m\u001b[0m\n",
      "\u001b[0;32m<ipython-input-37-e6834ec0c7a6>\u001b[0m in \u001b[0;36mtrain_batch\u001b[0;34m(self, batch, batch_idx)\u001b[0m\n\u001b[1;32m     51\u001b[0m         \u001b[0mloss\u001b[0m \u001b[0;34m=\u001b[0m \u001b[0mself\u001b[0m\u001b[0;34m.\u001b[0m\u001b[0mloss_fn\u001b[0m\u001b[0;34m(\u001b[0m\u001b[0minput\u001b[0m\u001b[0;34m=\u001b[0m\u001b[0my_preds\u001b[0m\u001b[0;34m,\u001b[0m \u001b[0mtarget\u001b[0m\u001b[0;34m=\u001b[0m\u001b[0my\u001b[0m\u001b[0;34m)\u001b[0m\u001b[0;34m\u001b[0m\u001b[0;34m\u001b[0m\u001b[0m\n\u001b[1;32m     52\u001b[0m         \u001b[0mself\u001b[0m\u001b[0;34m.\u001b[0m\u001b[0mmodel\u001b[0m\u001b[0;34m.\u001b[0m\u001b[0mzero_grad\u001b[0m\u001b[0;34m(\u001b[0m\u001b[0;34m)\u001b[0m\u001b[0;34m\u001b[0m\u001b[0;34m\u001b[0m\u001b[0m\n\u001b[0;32m---> 53\u001b[0;31m         \u001b[0mloss\u001b[0m\u001b[0;34m.\u001b[0m\u001b[0mbackward\u001b[0m\u001b[0;34m(\u001b[0m\u001b[0;34m)\u001b[0m\u001b[0;34m\u001b[0m\u001b[0;34m\u001b[0m\u001b[0m\n\u001b[0m\u001b[1;32m     54\u001b[0m         \u001b[0mself\u001b[0m\u001b[0;34m.\u001b[0m\u001b[0moptim\u001b[0m\u001b[0;34m.\u001b[0m\u001b[0mstep\u001b[0m\u001b[0;34m(\u001b[0m\u001b[0;34m)\u001b[0m\u001b[0;34m\u001b[0m\u001b[0;34m\u001b[0m\u001b[0m\n\u001b[1;32m     55\u001b[0m         \u001b[0;32mif\u001b[0m \u001b[0mbatch_idx\u001b[0m \u001b[0;34m%\u001b[0m \u001b[0;36m10\u001b[0m \u001b[0;34m==\u001b[0m \u001b[0;36m0\u001b[0m\u001b[0;34m:\u001b[0m\u001b[0;34m\u001b[0m\u001b[0;34m\u001b[0m\u001b[0m\n",
      "\u001b[0;32m~/miniconda3/lib/python3.7/site-packages/torch/tensor.py\u001b[0m in \u001b[0;36mbackward\u001b[0;34m(self, gradient, retain_graph, create_graph)\u001b[0m\n\u001b[1;32m    116\u001b[0m                 \u001b[0mproducts\u001b[0m\u001b[0;34m.\u001b[0m \u001b[0mDefaults\u001b[0m \u001b[0mto\u001b[0m\u001b[0;31m \u001b[0m\u001b[0;31m`\u001b[0m\u001b[0;31m`\u001b[0m\u001b[0;32mFalse\u001b[0m\u001b[0;31m`\u001b[0m\u001b[0;31m`\u001b[0m\u001b[0;34m.\u001b[0m\u001b[0;34m\u001b[0m\u001b[0;34m\u001b[0m\u001b[0m\n\u001b[1;32m    117\u001b[0m         \"\"\"\n\u001b[0;32m--> 118\u001b[0;31m         \u001b[0mtorch\u001b[0m\u001b[0;34m.\u001b[0m\u001b[0mautograd\u001b[0m\u001b[0;34m.\u001b[0m\u001b[0mbackward\u001b[0m\u001b[0;34m(\u001b[0m\u001b[0mself\u001b[0m\u001b[0;34m,\u001b[0m \u001b[0mgradient\u001b[0m\u001b[0;34m,\u001b[0m \u001b[0mretain_graph\u001b[0m\u001b[0;34m,\u001b[0m \u001b[0mcreate_graph\u001b[0m\u001b[0;34m)\u001b[0m\u001b[0;34m\u001b[0m\u001b[0;34m\u001b[0m\u001b[0m\n\u001b[0m\u001b[1;32m    119\u001b[0m \u001b[0;34m\u001b[0m\u001b[0m\n\u001b[1;32m    120\u001b[0m     \u001b[0;32mdef\u001b[0m \u001b[0mregister_hook\u001b[0m\u001b[0;34m(\u001b[0m\u001b[0mself\u001b[0m\u001b[0;34m,\u001b[0m \u001b[0mhook\u001b[0m\u001b[0;34m)\u001b[0m\u001b[0;34m:\u001b[0m\u001b[0;34m\u001b[0m\u001b[0;34m\u001b[0m\u001b[0m\n",
      "\u001b[0;32m~/miniconda3/lib/python3.7/site-packages/torch/autograd/__init__.py\u001b[0m in \u001b[0;36mbackward\u001b[0;34m(tensors, grad_tensors, retain_graph, create_graph, grad_variables)\u001b[0m\n\u001b[1;32m     91\u001b[0m     Variable._execution_engine.run_backward(\n\u001b[1;32m     92\u001b[0m         \u001b[0mtensors\u001b[0m\u001b[0;34m,\u001b[0m \u001b[0mgrad_tensors\u001b[0m\u001b[0;34m,\u001b[0m \u001b[0mretain_graph\u001b[0m\u001b[0;34m,\u001b[0m \u001b[0mcreate_graph\u001b[0m\u001b[0;34m,\u001b[0m\u001b[0;34m\u001b[0m\u001b[0;34m\u001b[0m\u001b[0m\n\u001b[0;32m---> 93\u001b[0;31m         allow_unreachable=True)  # allow_unreachable flag\n\u001b[0m\u001b[1;32m     94\u001b[0m \u001b[0;34m\u001b[0m\u001b[0m\n\u001b[1;32m     95\u001b[0m \u001b[0;34m\u001b[0m\u001b[0m\n",
      "\u001b[0;31mKeyboardInterrupt\u001b[0m: "
     ]
    }
   ],
   "source": [
    "class Trainer:\n",
    "    \n",
    "    def __init__(self, model, train_dataloader, n_epoch, optim, tb_dir=None, \n",
    "                 case_interval=None, vocab=None,\n",
    "                 valid_dataloader=None, test_dataloader=None):\n",
    "        self.model = model\n",
    "        self.train_dataloader = train_dataloader\n",
    "        self.valid_dataloader = valid_dataloader\n",
    "        self.test_dataloader = test_dataloader\n",
    "        self.n_epoch = n_epoch\n",
    "        self.optim = optim\n",
    "        self.case_interval = case_interval\n",
    "        self.vocab = vocab\n",
    "        self.writer = SummaryWriter(tb_dir, flush_secs=1) if tb_dir else None\n",
    "        \n",
    "    def loss_fn(self, input, target):\n",
    "        input = input.reshape(-1, input.size(-1))\n",
    "        target = target.reshape(-1)\n",
    "        \n",
    "        loss = torch.nn.functional.cross_entropy(\n",
    "            input=input, target=target,\n",
    "            ignore_index=0, reduction='mean')\n",
    "        return loss\n",
    "    \n",
    "    def batch2sents(self, batch):\n",
    "        sents = []\n",
    "        for data in batch.tolist():\n",
    "            for _ in range(data.count(0)):\n",
    "                data.remove(0)\n",
    "            if data == []:\n",
    "                data.append('<pad> ...')\n",
    "            sent = [self.vocab[x] for x in data]\n",
    "            sents.append(' '.join(sent))\n",
    "        return sents\n",
    "    \n",
    "    def show_case(self, x, y, y_preds, step):\n",
    "        post = self.batch2sents(x.T)[1]\n",
    "        targ = self.batch2sents(y.T)[1]\n",
    "        pred = y_preds.argmax(dim=2)\n",
    "        pred = self.batch2sents(pred.T)[1]\n",
    "        texts = [\n",
    "            f'[Post] {post}',\n",
    "            f'[Targ] {targ}',\n",
    "            f'[Pred] {pred}'\n",
    "        ]\n",
    "        self.writer.add_text('case', '\\n\\n'.join(texts), step)\n",
    "        \n",
    "    def train_batch(self, batch, batch_idx):\n",
    "        x, y = batch\n",
    "        y_preds = self.model(x, y)\n",
    "        loss = self.loss_fn(input=y_preds, target=y)\n",
    "        self.model.zero_grad()\n",
    "        loss.backward()\n",
    "        self.optim.step()\n",
    "        if batch_idx % 10 == 0:\n",
    "            self.show_case(x, y, y_preds, batch_idx)\n",
    "        return {'loss': loss.item()}\n",
    "        \n",
    "    def overfit_one_batch(self, n_step):\n",
    "        self.model.train()\n",
    "        batch = next(iter(self.train_dataloader))\n",
    "        pbar = tqdm(range(n_step), desc='Overfit')\n",
    "        for i in pbar:\n",
    "            state = self.train_batch(batch, i)\n",
    "            pbar.set_postfix(state)\n",
    "            if self.writer is not None:\n",
    "                self.writer.add_scalars('overfit', state, i)\n",
    "            \n",
    "    def fit(self): \n",
    "        for epoch in tqdm(range(self.n_epoch), desc='Total'):\n",
    "            self.train_epoch(epoch)\n",
    "            if self.valid_dataloader is not None:\n",
    "                self.valid_epoch(epoch)\n",
    "            if self.test_dataloader is not None:\n",
    "                self.test_epoch(epoch)\n",
    "                \n",
    "    def train_epoch(self, epoch):\n",
    "        self.model.train()\n",
    "        pbar = tqdm(self.train_dataloader, desc=f'Train Epoch {epoch}')\n",
    "        for idx, batch in enumerate(pbar):\n",
    "            state = self.train_batch(batch, idx)\n",
    "            pbar.set_postfix(state)\n",
    "            if self.writer is not None:\n",
    "                self.writer.add_scalars('train', state, idx)\n",
    "\n",
    "            \n",
    "\n",
    "train_dataloader = torch.utils.data.DataLoader(dataset, \n",
    "                                               batch_size=4, \n",
    "                                               collate_fn=collate_fn)\n",
    "model = Seq2Seq(\n",
    "    vocab_size=len(vocab),\n",
    "    embed_size=100, \n",
    "    hidden_size=100, \n",
    "    pad_value=0, \n",
    "    start_token=1,\n",
    ")\n",
    "adam = torch.optim.Adam(model.parameters())\n",
    "\n",
    "trainer = Trainer(\n",
    "    model=model,\n",
    "    train_dataloader=train_dataloader,\n",
    "    n_epoch=2,\n",
    "    optim=adam,\n",
    "    tb_dir='runs/train7',\n",
    "    case_interval=10,\n",
    "    vocab=vocab,\n",
    ")\n",
    "\n",
    "# trainer.overfit_one_batch(800)\n",
    "trainer.fit()"
   ]
  }
 ],
 "metadata": {
  "kernelspec": {
   "display_name": "Python 3",
   "language": "python",
   "name": "python3"
  },
  "language_info": {
   "codemirror_mode": {
    "name": "ipython",
    "version": 3
   },
   "file_extension": ".py",
   "mimetype": "text/x-python",
   "name": "python",
   "nbconvert_exporter": "python",
   "pygments_lexer": "ipython3",
   "version": "3.7.3"
  }
 },
 "nbformat": 4,
 "nbformat_minor": 4
}
